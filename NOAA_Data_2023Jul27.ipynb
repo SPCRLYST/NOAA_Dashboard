{
 "cells": [
  {
   "cell_type": "code",
   "execution_count": 195,
   "metadata": {},
   "outputs": [],
   "source": [
    "import pandas as pd\n",
    "import os\n",
    "import glob\n",
    "import pandas as pd \n",
    "import numpy as np\n",
    "import urllib\n",
    "import requests\n",
    "from pathlib import Path\n",
    "from zipfile import ZipFile\n",
    "import plotly.figure_factory as ff\n",
    "import matplotlib.pyplot as plt\n",
    "import plotly.express as px\n",
    "import addfips\n",
    "#import geoplot as gplt\n",
    "\n",
    "# set options so columns aren't hidden \n",
    "pd.set_option('display.max_columns', None)\n",
    "\n",
    "# set options so rows aren't hidden \n",
    "pd.set_option('display.max_rows', None)"
   ]
  },
  {
   "cell_type": "code",
   "execution_count": 196,
   "metadata": {},
   "outputs": [],
   "source": [
    "# gdf data read in\n",
    "gdf = pd.read_csv(\"gdf.csv\", dtype='str').iloc[:, 1:]\n",
    "# keeping all counties\n",
    "all_counties = gdf[['GEOID','STATE_NAME','NAME']]"
   ]
  },
  {
   "cell_type": "code",
   "execution_count": 197,
   "metadata": {},
   "outputs": [],
   "source": [
    "# read in noaa data with census counties\n",
    "noaa_data_fin = pd.read_csv(\"noaa_data_fin.csv\", dtype='str').iloc[:, 1:]\n",
    "# set column data types\n",
    "noaa_data_fin[['yr','mag']] = noaa_data_fin[['yr','mag']].apply(pd.to_numeric)"
   ]
  },
  {
   "cell_type": "code",
   "execution_count": 201,
   "metadata": {},
   "outputs": [],
   "source": [
    "# aggregating counts for noaa \n",
    "# hail\n",
    "agg_hail_noaa = noaa_data_fin.loc[(noaa_data_fin['type'] == 'hail') & (noaa_data_fin['mag'] >= 1) & (noaa_data_fin['yr'] >= 2018) & (noaa_data_fin['yr'] < 2023)].\\\n",
    "         groupby(['GEOID','STATE_NAME','NAME','type'])['om'].\\\n",
    "         agg({'count'}).\\\n",
    "         sort_values(['GEOID','STATE_NAME','NAME','type'], ascending=[True, True, True,True]).reset_index()\n",
    "# modify axis\n",
    "agg_hail_noaa = agg_hail_noaa.reset_index(drop = True)\n",
    "# merge with counties\n",
    "agg_hail_noaa = all_counties.merge(agg_hail_noaa[['GEOID','type','count']], on='GEOID', how='left')\n",
    "# fill missing type\n",
    "agg_hail_noaa['type'] = agg_hail_noaa['type'].fillna('hail')\n",
    "\n",
    "# tornado\n",
    "agg_tornado_noaa = noaa_data_fin.loc[(noaa_data_fin['type'] == 'tornado') & (noaa_data_fin['yr'] >= 2018) & (noaa_data_fin['yr'] < 2023)].\\\n",
    "         groupby(['GEOID','STATE_NAME','NAME','type'])['om'].\\\n",
    "         agg({'count'}).\\\n",
    "         sort_values(['GEOID','STATE_NAME','NAME','type'], ascending=[True, True, True,True]).reset_index()\n",
    "# modify axis\n",
    "agg_tornado_noaa = agg_tornado_noaa.reset_index(drop = True)\n",
    "# merge with counties\n",
    "agg_tornado_noaa = all_counties.merge(agg_tornado_noaa[['GEOID','type','count']], on='GEOID', how='left')\n",
    "# fill missing type\n",
    "agg_hail_noaa['type'] = agg_hail_noaa['type'].fillna('tornado')\n",
    "\n",
    "# wind\n",
    "agg_wind_noaa = noaa_data_fin.loc[(noaa_data_fin['type'] == 'wind') & (noaa_data_fin['yr'] >= 2018) & (noaa_data_fin['yr'] < 2023)].\\\n",
    "         groupby(['GEOID','STATE_NAME','NAME','type'])['om'].\\\n",
    "         agg({'count'}).\\\n",
    "         sort_values(['GEOID','STATE_NAME','NAME','type'], ascending=[True, True, True,True]).reset_index()\n",
    "# modify axis\n",
    "agg_wind_noaa = agg_wind_noaa.reset_index(drop = True)\n",
    "# merge with counties\n",
    "agg_wind_noaa = all_counties.merge(agg_wind_noaa[['GEOID','type','count']], on='GEOID', how='left')\n",
    "# fill missing type\n",
    "agg_hail_noaa['type'] = agg_hail_noaa['type'].fillna('wind')\n",
    "\n",
    "# aggregation of peril types\n",
    "perils = [agg_hail_noaa, agg_tornado_noaa, agg_wind_noaa]\n",
    "final_noaa = pd.concat(perils)\n",
    "\n",
    "# fix nan for counts\n",
    "final_noaa['count'] = final_noaa['count'].replace(np.nan, 0)"
   ]
  },
  {
   "cell_type": "code",
   "execution_count": 206,
   "metadata": {},
   "outputs": [
    {
     "data": {
      "text/plain": [
       "9702"
      ]
     },
     "execution_count": 206,
     "metadata": {},
     "output_type": "execute_result"
    }
   ],
   "source": [
    "len(final_noaa)"
   ]
  },
  {
   "cell_type": "code",
   "execution_count": 207,
   "metadata": {},
   "outputs": [],
   "source": [
    "# pop data read in\n",
    "pop = pd.read_csv(\"pop.csv\", dtype='str').iloc[:, 1:]\n",
    "# adding population to noaa data\n",
    "final_noaa_cnts_pop = final_noaa.merge(pop, on='GEOID', how='left')"
   ]
  },
  {
   "cell_type": "code",
   "execution_count": 208,
   "metadata": {},
   "outputs": [
    {
     "data": {
      "text/plain": [
       "9702"
      ]
     },
     "execution_count": 208,
     "metadata": {},
     "output_type": "execute_result"
    }
   ],
   "source": [
    "len(final_noaa_cnts_pop)"
   ]
  },
  {
   "cell_type": "code",
   "execution_count": 209,
   "metadata": {},
   "outputs": [
    {
     "data": {
      "text/html": [
       "<div>\n",
       "<style scoped>\n",
       "    .dataframe tbody tr th:only-of-type {\n",
       "        vertical-align: middle;\n",
       "    }\n",
       "\n",
       "    .dataframe tbody tr th {\n",
       "        vertical-align: top;\n",
       "    }\n",
       "\n",
       "    .dataframe thead th {\n",
       "        text-align: right;\n",
       "    }\n",
       "</style>\n",
       "<table border=\"1\" class=\"dataframe\">\n",
       "  <thead>\n",
       "    <tr style=\"text-align: right;\">\n",
       "      <th></th>\n",
       "      <th>GEOID</th>\n",
       "      <th>STATE_NAME</th>\n",
       "      <th>NAME</th>\n",
       "      <th>type</th>\n",
       "      <th>count</th>\n",
       "      <th>PopEst_2019</th>\n",
       "    </tr>\n",
       "  </thead>\n",
       "  <tbody>\n",
       "    <tr>\n",
       "      <th>0</th>\n",
       "      <td>04023</td>\n",
       "      <td>Arizona</td>\n",
       "      <td>Santa Cruz</td>\n",
       "      <td>hail</td>\n",
       "      <td>11.0</td>\n",
       "      <td>46498</td>\n",
       "    </tr>\n",
       "    <tr>\n",
       "      <th>1</th>\n",
       "      <td>12059</td>\n",
       "      <td>Florida</td>\n",
       "      <td>Holmes</td>\n",
       "      <td>hail</td>\n",
       "      <td>0.0</td>\n",
       "      <td>19617</td>\n",
       "    </tr>\n",
       "    <tr>\n",
       "      <th>2</th>\n",
       "      <td>27081</td>\n",
       "      <td>Minnesota</td>\n",
       "      <td>Lincoln</td>\n",
       "      <td>hail</td>\n",
       "      <td>4.0</td>\n",
       "      <td>5639</td>\n",
       "    </tr>\n",
       "    <tr>\n",
       "      <th>3</th>\n",
       "      <td>30029</td>\n",
       "      <td>Montana</td>\n",
       "      <td>Flathead</td>\n",
       "      <td>hail</td>\n",
       "      <td>6.0</td>\n",
       "      <td>103806</td>\n",
       "    </tr>\n",
       "    <tr>\n",
       "      <th>4</th>\n",
       "      <td>31135</td>\n",
       "      <td>Nebraska</td>\n",
       "      <td>Perkins</td>\n",
       "      <td>hail</td>\n",
       "      <td>48.0</td>\n",
       "      <td>2891</td>\n",
       "    </tr>\n",
       "  </tbody>\n",
       "</table>\n",
       "</div>"
      ],
      "text/plain": [
       "   GEOID STATE_NAME        NAME  type  count PopEst_2019\n",
       "0  04023    Arizona  Santa Cruz  hail   11.0       46498\n",
       "1  12059    Florida      Holmes  hail    0.0       19617\n",
       "2  27081  Minnesota     Lincoln  hail    4.0        5639\n",
       "3  30029    Montana    Flathead  hail    6.0      103806\n",
       "4  31135   Nebraska     Perkins  hail   48.0        2891"
      ]
     },
     "execution_count": 209,
     "metadata": {},
     "output_type": "execute_result"
    }
   ],
   "source": [
    "final_noaa_cnts_pop.head()"
   ]
  },
  {
   "cell_type": "code",
   "execution_count": null,
   "metadata": {},
   "outputs": [],
   "source": [
    "final_noaa_cnts_pop.to_csv(\"final_noaa_cnts_pop.csv\", index=False)"
   ]
  },
  {
   "cell_type": "code",
   "execution_count": null,
   "metadata": {},
   "outputs": [],
   "source": []
  }
 ],
 "metadata": {
  "kernelspec": {
   "display_name": "Python 3",
   "language": "python",
   "name": "python3"
  },
  "language_info": {
   "codemirror_mode": {
    "name": "ipython",
    "version": 3
   },
   "file_extension": ".py",
   "mimetype": "text/x-python",
   "name": "python",
   "nbconvert_exporter": "python",
   "pygments_lexer": "ipython3",
   "version": "3.8.5"
  }
 },
 "nbformat": 4,
 "nbformat_minor": 4
}
